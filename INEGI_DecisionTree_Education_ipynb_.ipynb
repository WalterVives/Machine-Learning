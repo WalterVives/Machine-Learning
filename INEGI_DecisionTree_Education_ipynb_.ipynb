{
  "nbformat": 4,
  "nbformat_minor": 0,
  "metadata": {
    "kernelspec": {
      "display_name": "Python 3 (system-wide)",
      "language": "python",
      "metadata": {
        "cocalc": {
          "description": "Python 3 programming language",
          "priority": 100,
          "url": "https://www.python.org/"
        }
      },
      "name": "python3"
    },
    "language_info": {
      "codemirror_mode": {
        "name": "ipython",
        "version": 3
      },
      "file_extension": ".py",
      "mimetype": "text/x-python",
      "name": "python",
      "nbconvert_exporter": "python",
      "pygments_lexer": "ipython3",
      "version": "3.8.5"
    },
    "colab": {
      "name": "INEGI DecisionTree Education.ipynb .ipynb",
      "provenance": []
    }
  },
  "cells": [
    {
      "cell_type": "markdown",
      "metadata": {
        "collapsed": false,
        "id": "aRFUd-B1nv4e"
      },
      "source": [
        "# INEGI Project unit 4\n",
        "\n",
        "**Univiersdad Politécnica de Yucatán**\n",
        "\n",
        "**Subject:** Data Mining\n",
        "\n",
        "**Author:** Walter Vives\n",
        "\n",
        "**Github:** [WalterVives](https://github.com/WalterVives)\n",
        "\n"
      ]
    },
    {
      "cell_type": "markdown",
      "metadata": {
        "collapsed": false,
        "id": "C-5cpayQnv4e"
      },
      "source": [
        "# Porcentaje de la población de 15 años y más por entidad federativa según condición de alfabetismo, 2000 a 2015"
      ]
    },
    {
      "cell_type": "markdown",
      "metadata": {
        "collapsed": false,
        "id": "n9iv1ohVnv4e"
      },
      "source": [
        "We use the dataset of the [INEGI education](https://www.inegi.org.mx/app/tabulados/interactivos/?px=Educacion_02&bd=Educacion). We used Supervised machine learning a Decision Tree Algorithm, we will teach to the machine the ability to determine if the given data corresponds either \"Alfabeta\", \"Analfabeta\", or \"No especificado\".\n",
        "This corresponds to the classification of the Condition literacy. "
      ]
    },
    {
      "cell_type": "code",
      "metadata": {
        "id": "4OziHVjOnv4e"
      },
      "source": [
        "# Libraries.\n",
        "import pandas as pd\n",
        "import pandas_profiling\n",
        "import numpy as np\n",
        "import matplotlib.pyplot as plt\n",
        "import seaborn as sb\n",
        "import missingno as msno\n",
        "from sklearn import tree\n",
        "from colorama import init, Fore, Back, Style"
      ],
      "execution_count": null,
      "outputs": []
    },
    {
      "cell_type": "code",
      "metadata": {
        "id": "PEceh9rznv4e",
        "outputId": "bd3e5da1-83b8-4d97-b3bd-a61b967a9b2b"
      },
      "source": [
        "# Reading the dataset.\n",
        "inegi = pd.read_excel(\"Educacion.xlsx\", sheet_name=\"Tabulado\", skiprows=[0,1,2])\n",
        "inegi.head()"
      ],
      "execution_count": null,
      "outputs": [
        {
          "output_type": "execute_result",
          "data": {
            "text/html": [
              "<div>\n",
              "<style scoped>\n",
              "    .dataframe tbody tr th:only-of-type {\n",
              "        vertical-align: middle;\n",
              "    }\n",
              "\n",
              "    .dataframe tbody tr th {\n",
              "        vertical-align: top;\n",
              "    }\n",
              "\n",
              "    .dataframe thead th {\n",
              "        text-align: right;\n",
              "    }\n",
              "</style>\n",
              "<table border=\"1\" class=\"dataframe\">\n",
              "  <thead>\n",
              "    <tr style=\"text-align: right;\">\n",
              "      <th></th>\n",
              "      <th>Unnamed: 0</th>\n",
              "      <th>Unnamed: 1</th>\n",
              "      <th>2000</th>\n",
              "      <th>2005</th>\n",
              "      <th>2010</th>\n",
              "      <th>2015</th>\n",
              "    </tr>\n",
              "  </thead>\n",
              "  <tbody>\n",
              "    <tr>\n",
              "      <th>0</th>\n",
              "      <td>Estados Unidos Mexicanos</td>\n",
              "      <td>Total</td>\n",
              "      <td>100.0</td>\n",
              "      <td>100.0</td>\n",
              "      <td>100.0</td>\n",
              "      <td>100.0</td>\n",
              "    </tr>\n",
              "    <tr>\n",
              "      <th>1</th>\n",
              "      <td>NaN</td>\n",
              "      <td>Alfabeta</td>\n",
              "      <td>90.5</td>\n",
              "      <td>91.5</td>\n",
              "      <td>92.4</td>\n",
              "      <td>93.6</td>\n",
              "    </tr>\n",
              "    <tr>\n",
              "      <th>2</th>\n",
              "      <td>NaN</td>\n",
              "      <td>Analfabeta</td>\n",
              "      <td>9.5</td>\n",
              "      <td>8.4</td>\n",
              "      <td>6.9</td>\n",
              "      <td>5.5</td>\n",
              "    </tr>\n",
              "    <tr>\n",
              "      <th>3</th>\n",
              "      <td>NaN</td>\n",
              "      <td>No especificado</td>\n",
              "      <td>0.1</td>\n",
              "      <td>0.2</td>\n",
              "      <td>0.8</td>\n",
              "      <td>0.9</td>\n",
              "    </tr>\n",
              "    <tr>\n",
              "      <th>4</th>\n",
              "      <td>Aguascalientes</td>\n",
              "      <td>Total</td>\n",
              "      <td>100.0</td>\n",
              "      <td>100.0</td>\n",
              "      <td>100.0</td>\n",
              "      <td>100.0</td>\n",
              "    </tr>\n",
              "  </tbody>\n",
              "</table>\n",
              "</div>"
            ],
            "text/plain": [
              "                 Unnamed: 0       Unnamed: 1   2000   2005   2010   2015\n",
              "0  Estados Unidos Mexicanos            Total  100.0  100.0  100.0  100.0\n",
              "1                       NaN         Alfabeta   90.5   91.5   92.4   93.6\n",
              "2                       NaN       Analfabeta    9.5    8.4    6.9    5.5\n",
              "3                       NaN  No especificado    0.1    0.2    0.8    0.9\n",
              "4            Aguascalientes            Total  100.0  100.0  100.0  100.0"
            ]
          },
          "metadata": {
            "tags": []
          },
          "execution_count": 2
        }
      ]
    },
    {
      "cell_type": "code",
      "metadata": {
        "id": "fMJSFyBtnv4f",
        "outputId": "aec3f2e7-e866-49e6-d6c5-01ce83e3d597"
      },
      "source": [
        "# A sample of the dataset.\n",
        "inegi.sample(5)"
      ],
      "execution_count": null,
      "outputs": [
        {
          "output_type": "execute_result",
          "data": {
            "text/html": [
              "<div>\n",
              "<style scoped>\n",
              "    .dataframe tbody tr th:only-of-type {\n",
              "        vertical-align: middle;\n",
              "    }\n",
              "\n",
              "    .dataframe tbody tr th {\n",
              "        vertical-align: top;\n",
              "    }\n",
              "\n",
              "    .dataframe thead th {\n",
              "        text-align: right;\n",
              "    }\n",
              "</style>\n",
              "<table border=\"1\" class=\"dataframe\">\n",
              "  <thead>\n",
              "    <tr style=\"text-align: right;\">\n",
              "      <th></th>\n",
              "      <th>Unnamed: 0</th>\n",
              "      <th>Unnamed: 1</th>\n",
              "      <th>2000</th>\n",
              "      <th>2005</th>\n",
              "      <th>2010</th>\n",
              "      <th>2015</th>\n",
              "    </tr>\n",
              "  </thead>\n",
              "  <tbody>\n",
              "    <tr>\n",
              "      <th>84</th>\n",
              "      <td>Puebla</td>\n",
              "      <td>Total</td>\n",
              "      <td>100.0</td>\n",
              "      <td>100.0</td>\n",
              "      <td>100.0</td>\n",
              "      <td>100.0</td>\n",
              "    </tr>\n",
              "    <tr>\n",
              "      <th>10</th>\n",
              "      <td>NaN</td>\n",
              "      <td>Analfabeta</td>\n",
              "      <td>3.5</td>\n",
              "      <td>3.1</td>\n",
              "      <td>2.6</td>\n",
              "      <td>2.0</td>\n",
              "    </tr>\n",
              "    <tr>\n",
              "      <th>24</th>\n",
              "      <td>Colima</td>\n",
              "      <td>Total</td>\n",
              "      <td>100.0</td>\n",
              "      <td>100.0</td>\n",
              "      <td>100.0</td>\n",
              "      <td>100.0</td>\n",
              "    </tr>\n",
              "    <tr>\n",
              "      <th>99</th>\n",
              "      <td>NaN</td>\n",
              "      <td>No especificado</td>\n",
              "      <td>0.1</td>\n",
              "      <td>0.1</td>\n",
              "      <td>0.7</td>\n",
              "      <td>0.8</td>\n",
              "    </tr>\n",
              "    <tr>\n",
              "      <th>16</th>\n",
              "      <td>Campeche</td>\n",
              "      <td>Total</td>\n",
              "      <td>100.0</td>\n",
              "      <td>100.0</td>\n",
              "      <td>100.0</td>\n",
              "      <td>100.0</td>\n",
              "    </tr>\n",
              "  </tbody>\n",
              "</table>\n",
              "</div>"
            ],
            "text/plain": [
              "   Unnamed: 0       Unnamed: 1   2000   2005   2010   2015\n",
              "84     Puebla            Total  100.0  100.0  100.0  100.0\n",
              "10        NaN       Analfabeta    3.5    3.1    2.6    2.0\n",
              "24     Colima            Total  100.0  100.0  100.0  100.0\n",
              "99        NaN  No especificado    0.1    0.1    0.7    0.8\n",
              "16   Campeche            Total  100.0  100.0  100.0  100.0"
            ]
          },
          "metadata": {
            "tags": []
          },
          "execution_count": 3
        }
      ]
    },
    {
      "cell_type": "markdown",
      "metadata": {
        "collapsed": false,
        "id": "1FxuIIgYnv4f"
      },
      "source": [
        "## Preprocessing"
      ]
    },
    {
      "cell_type": "code",
      "metadata": {
        "id": "UdhouUIUnv4f",
        "outputId": "75fd30e4-8413-4dc0-9952-2a868f4c114a"
      },
      "source": [
        "# Shape of the dataset.\n",
        "print(\"Total columns: \", inegi.shape[1])\n",
        "print(\"Total rows: \", inegi.shape[0])"
      ],
      "execution_count": null,
      "outputs": [
        {
          "output_type": "stream",
          "text": [
            "Total columns:  6\n",
            "Total rows:  132\n"
          ],
          "name": "stdout"
        }
      ]
    },
    {
      "cell_type": "code",
      "metadata": {
        "id": "Uc22HnLdnv4f",
        "outputId": "5e202a74-55b8-4ce1-eaa3-62fd23e6c717"
      },
      "source": [
        "# Description of the dataset.\n",
        "inegi.describe().T"
      ],
      "execution_count": null,
      "outputs": [
        {
          "output_type": "execute_result",
          "data": {
            "text/html": [
              "<div>\n",
              "<style scoped>\n",
              "    .dataframe tbody tr th:only-of-type {\n",
              "        vertical-align: middle;\n",
              "    }\n",
              "\n",
              "    .dataframe tbody tr th {\n",
              "        vertical-align: top;\n",
              "    }\n",
              "\n",
              "    .dataframe thead th {\n",
              "        text-align: right;\n",
              "    }\n",
              "</style>\n",
              "<table border=\"1\" class=\"dataframe\">\n",
              "  <thead>\n",
              "    <tr style=\"text-align: right;\">\n",
              "      <th></th>\n",
              "      <th>count</th>\n",
              "      <th>mean</th>\n",
              "      <th>std</th>\n",
              "      <th>min</th>\n",
              "      <th>25%</th>\n",
              "      <th>50%</th>\n",
              "      <th>75%</th>\n",
              "      <th>max</th>\n",
              "    </tr>\n",
              "  </thead>\n",
              "  <tbody>\n",
              "    <tr>\n",
              "      <th>2000</th>\n",
              "      <td>132.0</td>\n",
              "      <td>50.003030</td>\n",
              "      <td>45.790644</td>\n",
              "      <td>0.1</td>\n",
              "      <td>2.225</td>\n",
              "      <td>49.95</td>\n",
              "      <td>97.750</td>\n",
              "      <td>100.0</td>\n",
              "    </tr>\n",
              "    <tr>\n",
              "      <th>2005</th>\n",
              "      <td>132.0</td>\n",
              "      <td>50.002273</td>\n",
              "      <td>46.222825</td>\n",
              "      <td>0.1</td>\n",
              "      <td>2.100</td>\n",
              "      <td>49.95</td>\n",
              "      <td>97.825</td>\n",
              "      <td>100.0</td>\n",
              "    </tr>\n",
              "    <tr>\n",
              "      <th>2010</th>\n",
              "      <td>132.0</td>\n",
              "      <td>50.001515</td>\n",
              "      <td>46.608006</td>\n",
              "      <td>0.5</td>\n",
              "      <td>2.025</td>\n",
              "      <td>49.70</td>\n",
              "      <td>97.750</td>\n",
              "      <td>100.0</td>\n",
              "    </tr>\n",
              "    <tr>\n",
              "      <th>2015</th>\n",
              "      <td>132.0</td>\n",
              "      <td>49.998485</td>\n",
              "      <td>47.191774</td>\n",
              "      <td>0.4</td>\n",
              "      <td>1.900</td>\n",
              "      <td>49.50</td>\n",
              "      <td>98.275</td>\n",
              "      <td>100.0</td>\n",
              "    </tr>\n",
              "  </tbody>\n",
              "</table>\n",
              "</div>"
            ],
            "text/plain": [
              "      count       mean        std  min    25%    50%     75%    max\n",
              "2000  132.0  50.003030  45.790644  0.1  2.225  49.95  97.750  100.0\n",
              "2005  132.0  50.002273  46.222825  0.1  2.100  49.95  97.825  100.0\n",
              "2010  132.0  50.001515  46.608006  0.5  2.025  49.70  97.750  100.0\n",
              "2015  132.0  49.998485  47.191774  0.4  1.900  49.50  98.275  100.0"
            ]
          },
          "metadata": {
            "tags": []
          },
          "execution_count": 5
        }
      ]
    },
    {
      "cell_type": "code",
      "metadata": {
        "id": "w7JkDnF2nv4h",
        "outputId": "645c27a8-f9b3-4bce-ccc6-36108afe2126"
      },
      "source": [
        "# varaibles type.\n",
        "inegi.info()"
      ],
      "execution_count": null,
      "outputs": [
        {
          "output_type": "stream",
          "text": [
            "<class 'pandas.core.frame.DataFrame'>\n",
            "RangeIndex: 132 entries, 0 to 131\n",
            "Data columns (total 6 columns):\n",
            " #   Column      Non-Null Count  Dtype  \n",
            "---  ------      --------------  -----  \n",
            " 0   Unnamed: 0  33 non-null     object \n",
            " 1   Unnamed: 1  132 non-null    object \n",
            " 2   2000        132 non-null    float64\n",
            " 3   2005        132 non-null    float64\n",
            " 4   2010        132 non-null    float64\n",
            " 5   2015        132 non-null    float64\n",
            "dtypes: float64(4), object(2)\n",
            "memory usage: 6.3+ KB\n"
          ],
          "name": "stdout"
        }
      ]
    },
    {
      "cell_type": "code",
      "metadata": {
        "id": "rU9eyHUynv4h",
        "outputId": "94c32f56-9847-4f5e-a2f5-b999a2a940af"
      },
      "source": [
        "# Columns name.\n",
        "inegi.columns.tolist()"
      ],
      "execution_count": null,
      "outputs": [
        {
          "output_type": "execute_result",
          "data": {
            "text/plain": [
              "['Unnamed: 0', 'Unnamed: 1', '2000', '2005', '2010', '2015']"
            ]
          },
          "metadata": {
            "tags": []
          },
          "execution_count": 7
        }
      ]
    },
    {
      "cell_type": "code",
      "metadata": {
        "id": "ZgC_nCBknv4h",
        "outputId": "c5cbe827-8c2a-4d0d-fdaf-8d744ae90a92"
      },
      "source": [
        "# columns total.\n",
        "for name in enumerate(inegi.columns):\n",
        "    print(name)"
      ],
      "execution_count": null,
      "outputs": [
        {
          "output_type": "stream",
          "text": [
            "(0, 'Unnamed: 0')\n",
            "(1, 'Unnamed: 1')\n",
            "(2, '2000')\n",
            "(3, '2005')\n",
            "(4, '2010')\n",
            "(5, '2015')\n"
          ],
          "name": "stdout"
        }
      ]
    },
    {
      "cell_type": "code",
      "metadata": {
        "id": "OBGu2VTonv4i",
        "outputId": "72892622-ca76-48e8-976e-464bc0bd77b2"
      },
      "source": [
        "# Unique values.\n",
        "inegi.nunique(axis=0)"
      ],
      "execution_count": null,
      "outputs": [
        {
          "output_type": "execute_result",
          "data": {
            "text/plain": [
              "Unnamed: 0    33\n",
              "Unnamed: 1     4\n",
              "2000          60\n",
              "2005          67\n",
              "2010          67\n",
              "2015          63\n",
              "dtype: int64"
            ]
          },
          "metadata": {
            "tags": []
          },
          "execution_count": 9
        }
      ]
    },
    {
      "cell_type": "code",
      "metadata": {
        "id": "nP6rg2BMnv4j",
        "outputId": "88e01de2-f61d-4b55-9360-85a283ec32cc"
      },
      "source": [
        "# NaN values.\n",
        "inegi.isna().sum()"
      ],
      "execution_count": null,
      "outputs": [
        {
          "output_type": "execute_result",
          "data": {
            "text/plain": [
              "Unnamed: 0    99\n",
              "Unnamed: 1     0\n",
              "2000           0\n",
              "2005           0\n",
              "2010           0\n",
              "2015           0\n",
              "dtype: int64"
            ]
          },
          "metadata": {
            "tags": []
          },
          "execution_count": 10
        }
      ]
    },
    {
      "cell_type": "code",
      "metadata": {
        "id": "5V0ZgUoVnv4k",
        "outputId": "ac464981-1e84-4656-fe19-247305304ca2"
      },
      "source": [
        "# NaN values.\n",
        "inegi.isnull().sum()"
      ],
      "execution_count": null,
      "outputs": [
        {
          "output_type": "execute_result",
          "data": {
            "text/plain": [
              "Unnamed: 0    99\n",
              "Unnamed: 1     0\n",
              "2000           0\n",
              "2005           0\n",
              "2010           0\n",
              "2015           0\n",
              "dtype: int64"
            ]
          },
          "metadata": {
            "tags": []
          },
          "execution_count": 11
        }
      ]
    },
    {
      "cell_type": "code",
      "metadata": {
        "id": "znwzIrXxnv4k",
        "outputId": "e78f8067-da6d-4791-cacf-c4975d112ace"
      },
      "source": [
        "# Checking missing values.\n",
        "# we will print features with more than 10% of missing values.\n",
        "\n",
        "total = inegi.isnull().sum().sort_values(ascending=False)\n",
        "percent = (inegi.isnull().sum()/inegi.isnull().count()).sort_values(ascending=False)\n",
        "missing_data = pd.concat([total, percent], axis=1, keys=['Total', 'Missing Percent'])\n",
        "missing_data['Missing Percent'] = missing_data['Missing Percent'].apply(lambda x: x * 100)\n",
        "missing_data.loc[missing_data['Missing Percent'] > 10][:10]"
      ],
      "execution_count": null,
      "outputs": [
        {
          "output_type": "execute_result",
          "data": {
            "text/html": [
              "<div>\n",
              "<style scoped>\n",
              "    .dataframe tbody tr th:only-of-type {\n",
              "        vertical-align: middle;\n",
              "    }\n",
              "\n",
              "    .dataframe tbody tr th {\n",
              "        vertical-align: top;\n",
              "    }\n",
              "\n",
              "    .dataframe thead th {\n",
              "        text-align: right;\n",
              "    }\n",
              "</style>\n",
              "<table border=\"1\" class=\"dataframe\">\n",
              "  <thead>\n",
              "    <tr style=\"text-align: right;\">\n",
              "      <th></th>\n",
              "      <th>Total</th>\n",
              "      <th>Missing Percent</th>\n",
              "    </tr>\n",
              "  </thead>\n",
              "  <tbody>\n",
              "    <tr>\n",
              "      <th>Unnamed: 0</th>\n",
              "      <td>99</td>\n",
              "      <td>75.0</td>\n",
              "    </tr>\n",
              "  </tbody>\n",
              "</table>\n",
              "</div>"
            ],
            "text/plain": [
              "            Total  Missing Percent\n",
              "Unnamed: 0     99             75.0"
            ]
          },
          "metadata": {
            "tags": []
          },
          "execution_count": 12
        }
      ]
    },
    {
      "cell_type": "code",
      "metadata": {
        "id": "_jbxKvjinv4m",
        "outputId": "f8f539eb-3033-4b98-ddbf-2b9cd3f59bc9"
      },
      "source": [
        "# Graphic of missing values.\n",
        "msno.matrix(inegi)"
      ],
      "execution_count": null,
      "outputs": [
        {
          "output_type": "execute_result",
          "data": {
            "text/plain": [
              "<AxesSubplot:>"
            ]
          },
          "metadata": {
            "tags": []
          },
          "execution_count": 13
        },
        {
          "output_type": "execute_result",
          "data": {
            "image/png": "[encoded data removed]",
            "text/plain": [
              "<Figure size 1800x720 with 2 Axes>"
            ]
          },
          "metadata": {
            "tags": [],
            "image/png": {
              "height": 655,
              "width": 1463
            },
            "needs_background": "light"
          },
          "execution_count": 13
        }
      ]
    },
    {
      "cell_type": "code",
      "metadata": {
        "id": "0w0NdMnKnv4m",
        "outputId": "22214d97-342e-4b3f-9ef1-448d4499666a"
      },
      "source": [
        "# Graphic missing values.\n",
        "msno.bar(inegi)"
      ],
      "execution_count": null,
      "outputs": [
        {
          "output_type": "execute_result",
          "data": {
            "text/plain": [
              "<AxesSubplot:>"
            ]
          },
          "metadata": {
            "tags": []
          },
          "execution_count": 14
        },
        {
          "output_type": "execute_result",
          "data": {
            "image/png": "[encoded data removed]",
            "text/plain": [
              "<Figure size 1728x720 with 3 Axes>"
            ]
          },
          "metadata": {
            "tags": [],
            "image/png": {
              "height": 684,
              "width": 1423
            },
            "needs_background": "light"
          },
          "execution_count": 14
        }
      ]
    },
    {
      "cell_type": "code",
      "metadata": {
        "colab": {
          "referenced_widgets": [
            "c3b45b86d5f247209c930661ce27541a",
            "af3468c62a5d4653b482ba19e0fd8e20",
            "6c4482fa877f4d6da9a1829a5e617726",
            "1890999ffaba42dabfad129e06eceac5"
          ]
        },
        "id": "lwc2bX_Bnv4m",
        "outputId": "778a94da-7c1b-4f4b-eeec-ce00ed1d8bc4"
      },
      "source": [
        "# General overview of the dataset.\n",
        "profile = inegi.profile_report(title='Pandas Profiling Report')\n",
        "profile.to_file(output_file=\"INEGI_profiling.html\")"
      ],
      "execution_count": null,
      "outputs": [
        {
          "output_type": "execute_result",
          "data": {
            "application/vnd.jupyter.widget-view+json": {
              "model_id": "c3b45b86d5f247209c930661ce27541a",
              "version_major": 2,
              "version_minor": 0
            },
            "text/plain": [
              "HBox(children=(HTML(value='Summarize dataset'), FloatProgress(value=0.0, max=20.0), HTML(value='')))"
            ]
          },
          "metadata": {
            "tags": []
          },
          "execution_count": 15
        },
        {
          "output_type": "stream",
          "text": [
            "\n"
          ],
          "name": "stdout"
        },
        {
          "output_type": "execute_result",
          "data": {
            "application/vnd.jupyter.widget-view+json": {
              "model_id": "af3468c62a5d4653b482ba19e0fd8e20",
              "version_major": 2,
              "version_minor": 0
            },
            "text/plain": [
              "HBox(children=(HTML(value='Generate report structure'), FloatProgress(value=0.0, max=1.0), HTML(value='')))"
            ]
          },
          "metadata": {
            "tags": []
          },
          "execution_count": 15
        },
        {
          "output_type": "stream",
          "text": [
            "\n"
          ],
          "name": "stdout"
        },
        {
          "output_type": "execute_result",
          "data": {
            "application/vnd.jupyter.widget-view+json": {
              "model_id": "6c4482fa877f4d6da9a1829a5e617726",
              "version_major": 2,
              "version_minor": 0
            },
            "text/plain": [
              "HBox(children=(HTML(value='Render HTML'), FloatProgress(value=0.0, max=1.0), HTML(value='')))"
            ]
          },
          "metadata": {
            "tags": []
          },
          "execution_count": 15
        },
        {
          "output_type": "stream",
          "text": [
            "\n"
          ],
          "name": "stdout"
        },
        {
          "output_type": "execute_result",
          "data": {
            "application/vnd.jupyter.widget-view+json": {
              "model_id": "1890999ffaba42dabfad129e06eceac5",
              "version_major": 2,
              "version_minor": 0
            },
            "text/plain": [
              "HBox(children=(HTML(value='Export report to file'), FloatProgress(value=0.0, max=1.0), HTML(value='')))"
            ]
          },
          "metadata": {
            "tags": []
          },
          "execution_count": 15
        },
        {
          "output_type": "stream",
          "text": [
            "\n"
          ],
          "name": "stdout"
        }
      ]
    },
    {
      "cell_type": "code",
      "metadata": {
        "id": "ubNXCz5Rnv4m",
        "outputId": "dd03455f-8b37-4bc5-ed69-6ed7dc4443d8"
      },
      "source": [
        "# cheking the unique values of the column \"Unnamed: 0\" where exist lots of missing values.\n",
        "for estado in enumerate(list(set(inegi[\"Unnamed: 0\"]))):\n",
        "    print(estado)\n",
        "# we can see that we have all the states and also we have the NaN values and the total of the cases of the mexican republique (number 24)."
      ],
      "execution_count": null,
      "outputs": [
        {
          "output_type": "stream",
          "text": [
            "(0, nan)\n",
            "(1, 'México')\n",
            "(2, 'Ciudad de México')\n",
            "(3, 'Yucatán')\n",
            "(4, 'Nayarit')\n",
            "(5, 'Morelos')\n",
            "(6, 'Sinaloa')\n",
            "(7, 'Jalisco')\n",
            "(8, 'Puebla')\n",
            "(9, 'Sonora')\n",
            "(10, 'Nuevo León')\n",
            "(11, 'Chiapas')\n",
            "(12, 'Chihuahua')\n",
            "(13, 'Coahuila de Zaragoza')\n",
            "(14, 'Estados Unidos Mexicanos')\n",
            "(15, 'Quintana Roo')\n",
            "(16, 'Aguascalientes')\n",
            "(17, 'Tamaulipas')\n",
            "(18, 'Guanajuato')\n",
            "(19, 'San Luis Potosí')\n",
            "(20, 'Guerrero')\n",
            "(21, 'Veracruz de Ignacio de la Llave')\n",
            "(22, 'Tabasco')\n",
            "(23, 'Querétaro')\n",
            "(24, 'Baja California')\n",
            "(25, 'Baja California Sur')\n",
            "(26, 'Durango')\n",
            "(27, 'Oaxaca')\n",
            "(28, 'Campeche')\n",
            "(29, 'Tlaxcala')\n",
            "(30, 'Michoacán de Ocampo')\n",
            "(31, 'Hidalgo')\n",
            "(32, 'Colima')\n",
            "(33, 'Zacatecas')\n"
          ],
          "name": "stdout"
        }
      ]
    },
    {
      "cell_type": "code",
      "metadata": {
        "id": "fB1OQGvtnv4n",
        "outputId": "abecac82-2175-46f2-ec1d-825fe4ef0f41"
      },
      "source": [
        "# Renaming columns.\n",
        "names = {\"Unnamed: 0\":\"Estados\",\"Unnamed: 1\":\"Condición de alfabetismo\"}\n",
        "inegi = inegi.rename(columns=names)\n",
        "inegi.head()"
      ],
      "execution_count": null,
      "outputs": [
        {
          "output_type": "execute_result",
          "data": {
            "text/html": [
              "<div>\n",
              "<style scoped>\n",
              "    .dataframe tbody tr th:only-of-type {\n",
              "        vertical-align: middle;\n",
              "    }\n",
              "\n",
              "    .dataframe tbody tr th {\n",
              "        vertical-align: top;\n",
              "    }\n",
              "\n",
              "    .dataframe thead th {\n",
              "        text-align: right;\n",
              "    }\n",
              "</style>\n",
              "<table border=\"1\" class=\"dataframe\">\n",
              "  <thead>\n",
              "    <tr style=\"text-align: right;\">\n",
              "      <th></th>\n",
              "      <th>Estados</th>\n",
              "      <th>Condición de alfabetismo</th>\n",
              "      <th>2000</th>\n",
              "      <th>2005</th>\n",
              "      <th>2010</th>\n",
              "      <th>2015</th>\n",
              "    </tr>\n",
              "  </thead>\n",
              "  <tbody>\n",
              "    <tr>\n",
              "      <th>0</th>\n",
              "      <td>Estados Unidos Mexicanos</td>\n",
              "      <td>Total</td>\n",
              "      <td>100.0</td>\n",
              "      <td>100.0</td>\n",
              "      <td>100.0</td>\n",
              "      <td>100.0</td>\n",
              "    </tr>\n",
              "    <tr>\n",
              "      <th>1</th>\n",
              "      <td>NaN</td>\n",
              "      <td>Alfabeta</td>\n",
              "      <td>90.5</td>\n",
              "      <td>91.5</td>\n",
              "      <td>92.4</td>\n",
              "      <td>93.6</td>\n",
              "    </tr>\n",
              "    <tr>\n",
              "      <th>2</th>\n",
              "      <td>NaN</td>\n",
              "      <td>Analfabeta</td>\n",
              "      <td>9.5</td>\n",
              "      <td>8.4</td>\n",
              "      <td>6.9</td>\n",
              "      <td>5.5</td>\n",
              "    </tr>\n",
              "    <tr>\n",
              "      <th>3</th>\n",
              "      <td>NaN</td>\n",
              "      <td>No especificado</td>\n",
              "      <td>0.1</td>\n",
              "      <td>0.2</td>\n",
              "      <td>0.8</td>\n",
              "      <td>0.9</td>\n",
              "    </tr>\n",
              "    <tr>\n",
              "      <th>4</th>\n",
              "      <td>Aguascalientes</td>\n",
              "      <td>Total</td>\n",
              "      <td>100.0</td>\n",
              "      <td>100.0</td>\n",
              "      <td>100.0</td>\n",
              "      <td>100.0</td>\n",
              "    </tr>\n",
              "  </tbody>\n",
              "</table>\n",
              "</div>"
            ],
            "text/plain": [
              "                    Estados Condición de alfabetismo   2000   2005   2010  \\\n",
              "0  Estados Unidos Mexicanos                    Total  100.0  100.0  100.0   \n",
              "1                       NaN                 Alfabeta   90.5   91.5   92.4   \n",
              "2                       NaN               Analfabeta    9.5    8.4    6.9   \n",
              "3                       NaN          No especificado    0.1    0.2    0.8   \n",
              "4            Aguascalientes                    Total  100.0  100.0  100.0   \n",
              "\n",
              "    2015  \n",
              "0  100.0  \n",
              "1   93.6  \n",
              "2    5.5  \n",
              "3    0.9  \n",
              "4  100.0  "
            ]
          },
          "metadata": {
            "tags": []
          },
          "execution_count": 17
        }
      ]
    },
    {
      "cell_type": "code",
      "metadata": {
        "id": "uVzCjOOsnv4n",
        "outputId": "99c979ed-ae71-4b27-ae5f-6f197ae1d673"
      },
      "source": [
        "# Deleting the fist 4 rows. They are the total of \"Estados Unidos Meicanos\".\n",
        "inegi = inegi.drop([0,1,2,3], axis=0)\n",
        "inegi.head()"
      ],
      "execution_count": null,
      "outputs": [
        {
          "output_type": "execute_result",
          "data": {
            "text/html": [
              "<div>\n",
              "<style scoped>\n",
              "    .dataframe tbody tr th:only-of-type {\n",
              "        vertical-align: middle;\n",
              "    }\n",
              "\n",
              "    .dataframe tbody tr th {\n",
              "        vertical-align: top;\n",
              "    }\n",
              "\n",
              "    .dataframe thead th {\n",
              "        text-align: right;\n",
              "    }\n",
              "</style>\n",
              "<table border=\"1\" class=\"dataframe\">\n",
              "  <thead>\n",
              "    <tr style=\"text-align: right;\">\n",
              "      <th></th>\n",
              "      <th>Estados</th>\n",
              "      <th>Condición de alfabetismo</th>\n",
              "      <th>2000</th>\n",
              "      <th>2005</th>\n",
              "      <th>2010</th>\n",
              "      <th>2015</th>\n",
              "    </tr>\n",
              "  </thead>\n",
              "  <tbody>\n",
              "    <tr>\n",
              "      <th>4</th>\n",
              "      <td>Aguascalientes</td>\n",
              "      <td>Total</td>\n",
              "      <td>100.0</td>\n",
              "      <td>100.0</td>\n",
              "      <td>100.0</td>\n",
              "      <td>100.0</td>\n",
              "    </tr>\n",
              "    <tr>\n",
              "      <th>5</th>\n",
              "      <td>NaN</td>\n",
              "      <td>Alfabeta</td>\n",
              "      <td>95.1</td>\n",
              "      <td>95.6</td>\n",
              "      <td>96.2</td>\n",
              "      <td>97.0</td>\n",
              "    </tr>\n",
              "    <tr>\n",
              "      <th>6</th>\n",
              "      <td>NaN</td>\n",
              "      <td>Analfabeta</td>\n",
              "      <td>4.8</td>\n",
              "      <td>4.2</td>\n",
              "      <td>3.3</td>\n",
              "      <td>2.6</td>\n",
              "    </tr>\n",
              "    <tr>\n",
              "      <th>7</th>\n",
              "      <td>NaN</td>\n",
              "      <td>No especificado</td>\n",
              "      <td>0.1</td>\n",
              "      <td>0.2</td>\n",
              "      <td>0.5</td>\n",
              "      <td>0.4</td>\n",
              "    </tr>\n",
              "    <tr>\n",
              "      <th>8</th>\n",
              "      <td>Baja California</td>\n",
              "      <td>Total</td>\n",
              "      <td>100.0</td>\n",
              "      <td>100.0</td>\n",
              "      <td>100.0</td>\n",
              "      <td>100.0</td>\n",
              "    </tr>\n",
              "  </tbody>\n",
              "</table>\n",
              "</div>"
            ],
            "text/plain": [
              "           Estados Condición de alfabetismo   2000   2005   2010   2015\n",
              "4   Aguascalientes                    Total  100.0  100.0  100.0  100.0\n",
              "5              NaN                 Alfabeta   95.1   95.6   96.2   97.0\n",
              "6              NaN               Analfabeta    4.8    4.2    3.3    2.6\n",
              "7              NaN          No especificado    0.1    0.2    0.5    0.4\n",
              "8  Baja California                    Total  100.0  100.0  100.0  100.0"
            ]
          },
          "metadata": {
            "tags": []
          },
          "execution_count": 18
        }
      ]
    },
    {
      "cell_type": "code",
      "metadata": {
        "id": "UBj8LY_dnv4o",
        "outputId": "d6696d99-91ff-49cb-e4ff-90113a4ef6c2"
      },
      "source": [
        "# Making a copy of the dataset.\n",
        "df = inegi.copy()\n",
        "df.head()"
      ],
      "execution_count": null,
      "outputs": [
        {
          "output_type": "execute_result",
          "data": {
            "text/html": [
              "<div>\n",
              "<style scoped>\n",
              "    .dataframe tbody tr th:only-of-type {\n",
              "        vertical-align: middle;\n",
              "    }\n",
              "\n",
              "    .dataframe tbody tr th {\n",
              "        vertical-align: top;\n",
              "    }\n",
              "\n",
              "    .dataframe thead th {\n",
              "        text-align: right;\n",
              "    }\n",
              "</style>\n",
              "<table border=\"1\" class=\"dataframe\">\n",
              "  <thead>\n",
              "    <tr style=\"text-align: right;\">\n",
              "      <th></th>\n",
              "      <th>Estados</th>\n",
              "      <th>Condición de alfabetismo</th>\n",
              "      <th>2000</th>\n",
              "      <th>2005</th>\n",
              "      <th>2010</th>\n",
              "      <th>2015</th>\n",
              "    </tr>\n",
              "  </thead>\n",
              "  <tbody>\n",
              "    <tr>\n",
              "      <th>4</th>\n",
              "      <td>Aguascalientes</td>\n",
              "      <td>Total</td>\n",
              "      <td>100.0</td>\n",
              "      <td>100.0</td>\n",
              "      <td>100.0</td>\n",
              "      <td>100.0</td>\n",
              "    </tr>\n",
              "    <tr>\n",
              "      <th>5</th>\n",
              "      <td>NaN</td>\n",
              "      <td>Alfabeta</td>\n",
              "      <td>95.1</td>\n",
              "      <td>95.6</td>\n",
              "      <td>96.2</td>\n",
              "      <td>97.0</td>\n",
              "    </tr>\n",
              "    <tr>\n",
              "      <th>6</th>\n",
              "      <td>NaN</td>\n",
              "      <td>Analfabeta</td>\n",
              "      <td>4.8</td>\n",
              "      <td>4.2</td>\n",
              "      <td>3.3</td>\n",
              "      <td>2.6</td>\n",
              "    </tr>\n",
              "    <tr>\n",
              "      <th>7</th>\n",
              "      <td>NaN</td>\n",
              "      <td>No especificado</td>\n",
              "      <td>0.1</td>\n",
              "      <td>0.2</td>\n",
              "      <td>0.5</td>\n",
              "      <td>0.4</td>\n",
              "    </tr>\n",
              "    <tr>\n",
              "      <th>8</th>\n",
              "      <td>Baja California</td>\n",
              "      <td>Total</td>\n",
              "      <td>100.0</td>\n",
              "      <td>100.0</td>\n",
              "      <td>100.0</td>\n",
              "      <td>100.0</td>\n",
              "    </tr>\n",
              "  </tbody>\n",
              "</table>\n",
              "</div>"
            ],
            "text/plain": [
              "           Estados Condición de alfabetismo   2000   2005   2010   2015\n",
              "4   Aguascalientes                    Total  100.0  100.0  100.0  100.0\n",
              "5              NaN                 Alfabeta   95.1   95.6   96.2   97.0\n",
              "6              NaN               Analfabeta    4.8    4.2    3.3    2.6\n",
              "7              NaN          No especificado    0.1    0.2    0.5    0.4\n",
              "8  Baja California                    Total  100.0  100.0  100.0  100.0"
            ]
          },
          "metadata": {
            "tags": []
          },
          "execution_count": 19
        }
      ]
    },
    {
      "cell_type": "code",
      "metadata": {
        "id": "hjsFWT6fnv4o",
        "outputId": "b1fa6f8a-e9e9-4958-9071-ba53f9614c22"
      },
      "source": [
        "# List of all the states.\n",
        "estados_list = (list(set(df[\"Estados\"])))\n",
        "estados_list"
      ],
      "execution_count": null,
      "outputs": [
        {
          "output_type": "execute_result",
          "data": {
            "text/plain": [
              "[nan,\n",
              " 'México',\n",
              " 'Ciudad de México',\n",
              " 'Yucatán',\n",
              " 'Nayarit',\n",
              " 'Morelos',\n",
              " 'Sinaloa',\n",
              " 'Jalisco',\n",
              " 'Puebla',\n",
              " 'Sonora',\n",
              " 'Nuevo León',\n",
              " 'Chiapas',\n",
              " 'Chihuahua',\n",
              " 'Coahuila de Zaragoza',\n",
              " 'Quintana Roo',\n",
              " 'Aguascalientes',\n",
              " 'Tamaulipas',\n",
              " 'Guanajuato',\n",
              " 'San Luis Potosí',\n",
              " 'Guerrero',\n",
              " 'Veracruz de Ignacio de la Llave',\n",
              " 'Tabasco',\n",
              " 'Querétaro',\n",
              " 'Baja California',\n",
              " 'Baja California Sur',\n",
              " 'Durango',\n",
              " 'Oaxaca',\n",
              " 'Campeche',\n",
              " 'Tlaxcala',\n",
              " 'Michoacán de Ocampo',\n",
              " 'Hidalgo',\n",
              " 'Colima',\n",
              " 'Zacatecas']"
            ]
          },
          "metadata": {
            "tags": []
          },
          "execution_count": 20
        }
      ]
    },
    {
      "cell_type": "code",
      "metadata": {
        "id": "wvou8YO2nv4o",
        "outputId": "bde15389-978c-4195-c697-dcebe091bf15"
      },
      "source": [
        "# Deleting the NaN value of the list.\n",
        "estados_list.pop(0)"
      ],
      "execution_count": null,
      "outputs": [
        {
          "output_type": "execute_result",
          "data": {
            "text/plain": [
              "nan"
            ]
          },
          "metadata": {
            "tags": []
          },
          "execution_count": 21
        }
      ]
    },
    {
      "cell_type": "code",
      "metadata": {
        "id": "YpRsT0Linv4o",
        "outputId": "a6694f36-7773-4292-9776-0eda9e598c7f"
      },
      "source": [
        "# Verifying it.\n",
        "print(\"Estados totales\", len(estados_list))\n",
        "print(\"Estados:\\n\", estados_list)"
      ],
      "execution_count": null,
      "outputs": [
        {
          "output_type": "stream",
          "text": [
            "Estados totales 32\n",
            "Estados:\n",
            " ['México', 'Ciudad de México', 'Yucatán', 'Nayarit', 'Morelos', 'Sinaloa', 'Jalisco', 'Puebla', 'Sonora', 'Nuevo León', 'Chiapas', 'Chihuahua', 'Coahuila de Zaragoza', 'Quintana Roo', 'Aguascalientes', 'Tamaulipas', 'Guanajuato', 'San Luis Potosí', 'Guerrero', 'Veracruz de Ignacio de la Llave', 'Tabasco', 'Querétaro', 'Baja California', 'Baja California Sur', 'Durango', 'Oaxaca', 'Campeche', 'Tlaxcala', 'Michoacán de Ocampo', 'Hidalgo', 'Colima', 'Zacatecas']\n"
          ],
          "name": "stdout"
        }
      ]
    },
    {
      "cell_type": "code",
      "metadata": {
        "id": "YdA7tjkZnv4o",
        "outputId": "1921048d-ea21-4346-afba-cbf3164f0bd6"
      },
      "source": [
        "# the fist 5 rows of the dataset.\n",
        "df.head()"
      ],
      "execution_count": null,
      "outputs": [
        {
          "output_type": "execute_result",
          "data": {
            "text/html": [
              "<div>\n",
              "<style scoped>\n",
              "    .dataframe tbody tr th:only-of-type {\n",
              "        vertical-align: middle;\n",
              "    }\n",
              "\n",
              "    .dataframe tbody tr th {\n",
              "        vertical-align: top;\n",
              "    }\n",
              "\n",
              "    .dataframe thead th {\n",
              "        text-align: right;\n",
              "    }\n",
              "</style>\n",
              "<table border=\"1\" class=\"dataframe\">\n",
              "  <thead>\n",
              "    <tr style=\"text-align: right;\">\n",
              "      <th></th>\n",
              "      <th>Estados</th>\n",
              "      <th>Condición de alfabetismo</th>\n",
              "      <th>2000</th>\n",
              "      <th>2005</th>\n",
              "      <th>2010</th>\n",
              "      <th>2015</th>\n",
              "    </tr>\n",
              "  </thead>\n",
              "  <tbody>\n",
              "    <tr>\n",
              "      <th>4</th>\n",
              "      <td>Aguascalientes</td>\n",
              "      <td>Total</td>\n",
              "      <td>100.0</td>\n",
              "      <td>100.0</td>\n",
              "      <td>100.0</td>\n",
              "      <td>100.0</td>\n",
              "    </tr>\n",
              "    <tr>\n",
              "      <th>5</th>\n",
              "      <td>NaN</td>\n",
              "      <td>Alfabeta</td>\n",
              "      <td>95.1</td>\n",
              "      <td>95.6</td>\n",
              "      <td>96.2</td>\n",
              "      <td>97.0</td>\n",
              "    </tr>\n",
              "    <tr>\n",
              "      <th>6</th>\n",
              "      <td>NaN</td>\n",
              "      <td>Analfabeta</td>\n",
              "      <td>4.8</td>\n",
              "      <td>4.2</td>\n",
              "      <td>3.3</td>\n",
              "      <td>2.6</td>\n",
              "    </tr>\n",
              "    <tr>\n",
              "      <th>7</th>\n",
              "      <td>NaN</td>\n",
              "      <td>No especificado</td>\n",
              "      <td>0.1</td>\n",
              "      <td>0.2</td>\n",
              "      <td>0.5</td>\n",
              "      <td>0.4</td>\n",
              "    </tr>\n",
              "    <tr>\n",
              "      <th>8</th>\n",
              "      <td>Baja California</td>\n",
              "      <td>Total</td>\n",
              "      <td>100.0</td>\n",
              "      <td>100.0</td>\n",
              "      <td>100.0</td>\n",
              "      <td>100.0</td>\n",
              "    </tr>\n",
              "  </tbody>\n",
              "</table>\n",
              "</div>"
            ],
            "text/plain": [
              "           Estados Condición de alfabetismo   2000   2005   2010   2015\n",
              "4   Aguascalientes                    Total  100.0  100.0  100.0  100.0\n",
              "5              NaN                 Alfabeta   95.1   95.6   96.2   97.0\n",
              "6              NaN               Analfabeta    4.8    4.2    3.3    2.6\n",
              "7              NaN          No especificado    0.1    0.2    0.5    0.4\n",
              "8  Baja California                    Total  100.0  100.0  100.0  100.0"
            ]
          },
          "metadata": {
            "tags": []
          },
          "execution_count": 23
        }
      ]
    },
    {
      "cell_type": "code",
      "metadata": {
        "id": "WyGbSaqtnv4o",
        "outputId": "78de24be-8da5-41af-a4f9-34875e16a17d"
      },
      "source": [
        "# Reseting the index.\n",
        "df = df.reset_index(drop=True)\n",
        "df.head()"
      ],
      "execution_count": null,
      "outputs": [
        {
          "output_type": "execute_result",
          "data": {
            "text/html": [
              "<div>\n",
              "<style scoped>\n",
              "    .dataframe tbody tr th:only-of-type {\n",
              "        vertical-align: middle;\n",
              "    }\n",
              "\n",
              "    .dataframe tbody tr th {\n",
              "        vertical-align: top;\n",
              "    }\n",
              "\n",
              "    .dataframe thead th {\n",
              "        text-align: right;\n",
              "    }\n",
              "</style>\n",
              "<table border=\"1\" class=\"dataframe\">\n",
              "  <thead>\n",
              "    <tr style=\"text-align: right;\">\n",
              "      <th></th>\n",
              "      <th>Estados</th>\n",
              "      <th>Condición de alfabetismo</th>\n",
              "      <th>2000</th>\n",
              "      <th>2005</th>\n",
              "      <th>2010</th>\n",
              "      <th>2015</th>\n",
              "    </tr>\n",
              "  </thead>\n",
              "  <tbody>\n",
              "    <tr>\n",
              "      <th>0</th>\n",
              "      <td>Aguascalientes</td>\n",
              "      <td>Total</td>\n",
              "      <td>100.0</td>\n",
              "      <td>100.0</td>\n",
              "      <td>100.0</td>\n",
              "      <td>100.0</td>\n",
              "    </tr>\n",
              "    <tr>\n",
              "      <th>1</th>\n",
              "      <td>NaN</td>\n",
              "      <td>Alfabeta</td>\n",
              "      <td>95.1</td>\n",
              "      <td>95.6</td>\n",
              "      <td>96.2</td>\n",
              "      <td>97.0</td>\n",
              "    </tr>\n",
              "    <tr>\n",
              "      <th>2</th>\n",
              "      <td>NaN</td>\n",
              "      <td>Analfabeta</td>\n",
              "      <td>4.8</td>\n",
              "      <td>4.2</td>\n",
              "      <td>3.3</td>\n",
              "      <td>2.6</td>\n",
              "    </tr>\n",
              "    <tr>\n",
              "      <th>3</th>\n",
              "      <td>NaN</td>\n",
              "      <td>No especificado</td>\n",
              "      <td>0.1</td>\n",
              "      <td>0.2</td>\n",
              "      <td>0.5</td>\n",
              "      <td>0.4</td>\n",
              "    </tr>\n",
              "    <tr>\n",
              "      <th>4</th>\n",
              "      <td>Baja California</td>\n",
              "      <td>Total</td>\n",
              "      <td>100.0</td>\n",
              "      <td>100.0</td>\n",
              "      <td>100.0</td>\n",
              "      <td>100.0</td>\n",
              "    </tr>\n",
              "  </tbody>\n",
              "</table>\n",
              "</div>"
            ],
            "text/plain": [
              "           Estados Condición de alfabetismo   2000   2005   2010   2015\n",
              "0   Aguascalientes                    Total  100.0  100.0  100.0  100.0\n",
              "1              NaN                 Alfabeta   95.1   95.6   96.2   97.0\n",
              "2              NaN               Analfabeta    4.8    4.2    3.3    2.6\n",
              "3              NaN          No especificado    0.1    0.2    0.5    0.4\n",
              "4  Baja California                    Total  100.0  100.0  100.0  100.0"
            ]
          },
          "metadata": {
            "tags": []
          },
          "execution_count": 24
        }
      ]
    },
    {
      "cell_type": "code",
      "metadata": {
        "id": "9pH1c-vMnv4o",
        "outputId": "f00c3b46-0f31-4a27-c603-19563c939620"
      },
      "source": [
        "# Last 5 values of the dataset.\n",
        "df.tail()"
      ],
      "execution_count": null,
      "outputs": [
        {
          "output_type": "execute_result",
          "data": {
            "text/html": [
              "<div>\n",
              "<style scoped>\n",
              "    .dataframe tbody tr th:only-of-type {\n",
              "        vertical-align: middle;\n",
              "    }\n",
              "\n",
              "    .dataframe tbody tr th {\n",
              "        vertical-align: top;\n",
              "    }\n",
              "\n",
              "    .dataframe thead th {\n",
              "        text-align: right;\n",
              "    }\n",
              "</style>\n",
              "<table border=\"1\" class=\"dataframe\">\n",
              "  <thead>\n",
              "    <tr style=\"text-align: right;\">\n",
              "      <th></th>\n",
              "      <th>Estados</th>\n",
              "      <th>Condición de alfabetismo</th>\n",
              "      <th>2000</th>\n",
              "      <th>2005</th>\n",
              "      <th>2010</th>\n",
              "      <th>2015</th>\n",
              "    </tr>\n",
              "  </thead>\n",
              "  <tbody>\n",
              "    <tr>\n",
              "      <th>123</th>\n",
              "      <td>NaN</td>\n",
              "      <td>No especificado</td>\n",
              "      <td>0.1</td>\n",
              "      <td>0.2</td>\n",
              "      <td>0.8</td>\n",
              "      <td>0.7</td>\n",
              "    </tr>\n",
              "    <tr>\n",
              "      <th>124</th>\n",
              "      <td>Zacatecas</td>\n",
              "      <td>Total</td>\n",
              "      <td>100.0</td>\n",
              "      <td>100.0</td>\n",
              "      <td>100.0</td>\n",
              "      <td>100.0</td>\n",
              "    </tr>\n",
              "    <tr>\n",
              "      <th>125</th>\n",
              "      <td>NaN</td>\n",
              "      <td>Alfabeta</td>\n",
              "      <td>92.0</td>\n",
              "      <td>92.7</td>\n",
              "      <td>93.9</td>\n",
              "      <td>94.9</td>\n",
              "    </tr>\n",
              "    <tr>\n",
              "      <th>126</th>\n",
              "      <td>NaN</td>\n",
              "      <td>Analfabeta</td>\n",
              "      <td>8.0</td>\n",
              "      <td>7.2</td>\n",
              "      <td>5.5</td>\n",
              "      <td>4.4</td>\n",
              "    </tr>\n",
              "    <tr>\n",
              "      <th>127</th>\n",
              "      <td>NaN</td>\n",
              "      <td>No especificado</td>\n",
              "      <td>0.1</td>\n",
              "      <td>0.1</td>\n",
              "      <td>0.6</td>\n",
              "      <td>0.8</td>\n",
              "    </tr>\n",
              "  </tbody>\n",
              "</table>\n",
              "</div>"
            ],
            "text/plain": [
              "       Estados Condición de alfabetismo   2000   2005   2010   2015\n",
              "123        NaN          No especificado    0.1    0.2    0.8    0.7\n",
              "124  Zacatecas                    Total  100.0  100.0  100.0  100.0\n",
              "125        NaN                 Alfabeta   92.0   92.7   93.9   94.9\n",
              "126        NaN               Analfabeta    8.0    7.2    5.5    4.4\n",
              "127        NaN          No especificado    0.1    0.1    0.6    0.8"
            ]
          },
          "metadata": {
            "tags": []
          },
          "execution_count": 25
        }
      ]
    },
    {
      "cell_type": "code",
      "metadata": {
        "id": "HcSRaKzcnv4o"
      },
      "source": [
        "# Estates list.\n",
        "estados_list\n",
        "# Function to fill the Estados column.\n",
        "def idx(state_column):\n",
        "    \"\"\"\n",
        "    A function to get all the indexes of the states in the Estados column.\n",
        "    Parameters: The Estados column.\n",
        "    Output: A list of index of the states.\n",
        "    \"\"\"\n",
        "    idx_states = []\n",
        "    final_list = []\n",
        "    for element in state_column:\n",
        "        for estado in estados_list:\n",
        "            if element == estado:\n",
        "                idx_states.append(df[state_column == estado].index.tolist())\n",
        "    final_list = [item for sublist in idx_states for item in sublist]\n",
        "    return final_list"
      ],
      "execution_count": null,
      "outputs": []
    },
    {
      "cell_type": "code",
      "metadata": {
        "id": "CMY7MOLjnv4o",
        "outputId": "5ffb503c-7726-46ec-ed7f-8756baf36104"
      },
      "source": [
        "# Calling the function idx.\n",
        "total_idx = idx(df[\"Estados\"])\n",
        "print(\"Total states\", len(total_idx))\n",
        "print(\"List of index:\", total_idx)"
      ],
      "execution_count": null,
      "outputs": [
        {
          "output_type": "stream",
          "text": [
            "Total states 32\n",
            "List of index: [0, 4, 8, 12, 16, 20, 24, 28, 32, 36, 40, 44, 48, 52, 56, 60, 64, 68, 72, 76, 80, 84, 88, 92, 96, 100, 104, 108, 112, 116, 120, 124]\n"
          ],
          "name": "stdout"
        }
      ]
    },
    {
      "cell_type": "code",
      "metadata": {
        "id": "-KcBcuD9nv4o",
        "outputId": "9540c72f-5425-47bc-c7cb-f8cf1289dcb7"
      },
      "source": [
        "# First 13 rows of the dataset.\n",
        "df.head(13)"
      ],
      "execution_count": null,
      "outputs": [
        {
          "output_type": "execute_result",
          "data": {
            "text/html": [
              "<div>\n",
              "<style scoped>\n",
              "    .dataframe tbody tr th:only-of-type {\n",
              "        vertical-align: middle;\n",
              "    }\n",
              "\n",
              "    .dataframe tbody tr th {\n",
              "        vertical-align: top;\n",
              "    }\n",
              "\n",
              "    .dataframe thead th {\n",
              "        text-align: right;\n",
              "    }\n",
              "</style>\n",
              "<table border=\"1\" class=\"dataframe\">\n",
              "  <thead>\n",
              "    <tr style=\"text-align: right;\">\n",
              "      <th></th>\n",
              "      <th>Estados</th>\n",
              "      <th>Condición de alfabetismo</th>\n",
              "      <th>2000</th>\n",
              "      <th>2005</th>\n",
              "      <th>2010</th>\n",
              "      <th>2015</th>\n",
              "    </tr>\n",
              "  </thead>\n",
              "  <tbody>\n",
              "    <tr>\n",
              "      <th>0</th>\n",
              "      <td>Aguascalientes</td>\n",
              "      <td>Total</td>\n",
              "      <td>100.0</td>\n",
              "      <td>100.0</td>\n",
              "      <td>100.0</td>\n",
              "      <td>100.0</td>\n",
              "    </tr>\n",
              "    <tr>\n",
              "      <th>1</th>\n",
              "      <td>NaN</td>\n",
              "      <td>Alfabeta</td>\n",
              "      <td>95.1</td>\n",
              "      <td>95.6</td>\n",
              "      <td>96.2</td>\n",
              "      <td>97.0</td>\n",
              "    </tr>\n",
              "    <tr>\n",
              "      <th>2</th>\n",
              "      <td>NaN</td>\n",
              "      <td>Analfabeta</td>\n",
              "      <td>4.8</td>\n",
              "      <td>4.2</td>\n",
              "      <td>3.3</td>\n",
              "      <td>2.6</td>\n",
              "    </tr>\n",
              "    <tr>\n",
              "      <th>3</th>\n",
              "      <td>NaN</td>\n",
              "      <td>No especificado</td>\n",
              "      <td>0.1</td>\n",
              "      <td>0.2</td>\n",
              "      <td>0.5</td>\n",
              "      <td>0.4</td>\n",
              "    </tr>\n",
              "    <tr>\n",
              "      <th>4</th>\n",
              "      <td>Baja California</td>\n",
              "      <td>Total</td>\n",
              "      <td>100.0</td>\n",
              "      <td>100.0</td>\n",
              "      <td>100.0</td>\n",
              "      <td>100.0</td>\n",
              "    </tr>\n",
              "    <tr>\n",
              "      <th>5</th>\n",
              "      <td>NaN</td>\n",
              "      <td>Alfabeta</td>\n",
              "      <td>96.3</td>\n",
              "      <td>96.4</td>\n",
              "      <td>96.3</td>\n",
              "      <td>97.6</td>\n",
              "    </tr>\n",
              "    <tr>\n",
              "      <th>6</th>\n",
              "      <td>NaN</td>\n",
              "      <td>Analfabeta</td>\n",
              "      <td>3.5</td>\n",
              "      <td>3.1</td>\n",
              "      <td>2.6</td>\n",
              "      <td>2.0</td>\n",
              "    </tr>\n",
              "    <tr>\n",
              "      <th>7</th>\n",
              "      <td>NaN</td>\n",
              "      <td>No especificado</td>\n",
              "      <td>0.2</td>\n",
              "      <td>0.5</td>\n",
              "      <td>1.1</td>\n",
              "      <td>0.5</td>\n",
              "    </tr>\n",
              "    <tr>\n",
              "      <th>8</th>\n",
              "      <td>Baja California Sur</td>\n",
              "      <td>Total</td>\n",
              "      <td>100.0</td>\n",
              "      <td>100.0</td>\n",
              "      <td>100.0</td>\n",
              "      <td>100.0</td>\n",
              "    </tr>\n",
              "    <tr>\n",
              "      <th>9</th>\n",
              "      <td>NaN</td>\n",
              "      <td>Alfabeta</td>\n",
              "      <td>95.7</td>\n",
              "      <td>95.8</td>\n",
              "      <td>96.1</td>\n",
              "      <td>96.8</td>\n",
              "    </tr>\n",
              "    <tr>\n",
              "      <th>10</th>\n",
              "      <td>NaN</td>\n",
              "      <td>Analfabeta</td>\n",
              "      <td>4.2</td>\n",
              "      <td>3.6</td>\n",
              "      <td>3.2</td>\n",
              "      <td>2.5</td>\n",
              "    </tr>\n",
              "    <tr>\n",
              "      <th>11</th>\n",
              "      <td>NaN</td>\n",
              "      <td>No especificado</td>\n",
              "      <td>0.1</td>\n",
              "      <td>0.6</td>\n",
              "      <td>0.7</td>\n",
              "      <td>0.7</td>\n",
              "    </tr>\n",
              "    <tr>\n",
              "      <th>12</th>\n",
              "      <td>Campeche</td>\n",
              "      <td>Total</td>\n",
              "      <td>100.0</td>\n",
              "      <td>100.0</td>\n",
              "      <td>100.0</td>\n",
              "      <td>100.0</td>\n",
              "    </tr>\n",
              "  </tbody>\n",
              "</table>\n",
              "</div>"
            ],
            "text/plain": [
              "                Estados Condición de alfabetismo   2000   2005   2010   2015\n",
              "0        Aguascalientes                    Total  100.0  100.0  100.0  100.0\n",
              "1                   NaN                 Alfabeta   95.1   95.6   96.2   97.0\n",
              "2                   NaN               Analfabeta    4.8    4.2    3.3    2.6\n",
              "3                   NaN          No especificado    0.1    0.2    0.5    0.4\n",
              "4       Baja California                    Total  100.0  100.0  100.0  100.0\n",
              "5                   NaN                 Alfabeta   96.3   96.4   96.3   97.6\n",
              "6                   NaN               Analfabeta    3.5    3.1    2.6    2.0\n",
              "7                   NaN          No especificado    0.2    0.5    1.1    0.5\n",
              "8   Baja California Sur                    Total  100.0  100.0  100.0  100.0\n",
              "9                   NaN                 Alfabeta   95.7   95.8   96.1   96.8\n",
              "10                  NaN               Analfabeta    4.2    3.6    3.2    2.5\n",
              "11                  NaN          No especificado    0.1    0.6    0.7    0.7\n",
              "12             Campeche                    Total  100.0  100.0  100.0  100.0"
            ]
          },
          "metadata": {
            "tags": []
          },
          "execution_count": 28
        }
      ]
    },
    {
      "cell_type": "code",
      "metadata": {
        "id": "v1O5f9oQnv4p",
        "outputId": "d80c9820-432a-4b30-c875-e498948ce412"
      },
      "source": [
        "print(estados_list)\n",
        "print(\"\\n\")\n",
        "print(total_idx)"
      ],
      "execution_count": null,
      "outputs": [
        {
          "output_type": "stream",
          "text": [
            "['México', 'Ciudad de México', 'Yucatán', 'Nayarit', 'Morelos', 'Sinaloa', 'Jalisco', 'Puebla', 'Sonora', 'Nuevo León', 'Chiapas', 'Chihuahua', 'Coahuila de Zaragoza', 'Quintana Roo', 'Aguascalientes', 'Tamaulipas', 'Guanajuato', 'San Luis Potosí', 'Guerrero', 'Veracruz de Ignacio de la Llave', 'Tabasco', 'Querétaro', 'Baja California', 'Baja California Sur', 'Durango', 'Oaxaca', 'Campeche', 'Tlaxcala', 'Michoacán de Ocampo', 'Hidalgo', 'Colima', 'Zacatecas']\n",
            "\n",
            "\n",
            "[0, 4, 8, 12, 16, 20, 24, 28, 32, 36, 40, 44, 48, 52, 56, 60, 64, 68, 72, 76, 80, 84, 88, 92, 96, 100, 104, 108, 112, 116, 120, 124]\n"
          ],
          "name": "stdout"
        }
      ]
    },
    {
      "cell_type": "code",
      "metadata": {
        "id": "sHpGQdENnv4p",
        "outputId": "c74f7942-4ae5-4305-a28b-529f7c3315db"
      },
      "source": [
        "# looking for the state with index 4.\n",
        "df[\"Estados\"].loc[df[\"Estados\"].index == 4]"
      ],
      "execution_count": null,
      "outputs": [
        {
          "output_type": "execute_result",
          "data": {
            "text/plain": [
              "4    Baja California\n",
              "Name: Estados, dtype: object"
            ]
          },
          "metadata": {
            "tags": []
          },
          "execution_count": 30
        }
      ]
    },
    {
      "cell_type": "code",
      "metadata": {
        "id": "OJRpQRYLnv4p",
        "outputId": "91aeb08f-1d3c-4e49-cf63-734566d9a00e"
      },
      "source": [
        "# Creating a copy of the dataframe.\n",
        "copiadf = df.copy()\n",
        "copiadf[\"Estados\"][0]"
      ],
      "execution_count": null,
      "outputs": [
        {
          "output_type": "execute_result",
          "data": {
            "text/plain": [
              "'Aguascalientes'"
            ]
          },
          "metadata": {
            "tags": []
          },
          "execution_count": 31
        }
      ]
    },
    {
      "cell_type": "code",
      "metadata": {
        "id": "eS4Jkv03nv4p",
        "outputId": "cf2d23e1-8455-4f2d-c8bc-761acea79716"
      },
      "source": [
        "# Dimension of the dataframe.\n",
        "copiadf.shape"
      ],
      "execution_count": null,
      "outputs": [
        {
          "output_type": "execute_result",
          "data": {
            "text/plain": [
              "(128, 6)"
            ]
          },
          "metadata": {
            "tags": []
          },
          "execution_count": 32
        }
      ]
    },
    {
      "cell_type": "markdown",
      "metadata": {
        "collapsed": false,
        "id": "MjbSziW-nv4p"
      },
      "source": [
        "### Filling the NaN values of the Estados column with its respective state name."
      ]
    },
    {
      "cell_type": "code",
      "metadata": {
        "id": "eM53z6Ndnv4q",
        "outputId": "85da21a1-74a5-4368-fccf-5da109809cd4"
      },
      "source": [
        "# Filling the NaN values of the Estados column with its respective state name.\n",
        "for element_idx in range(len(copiadf[\"Estados\"])):\n",
        "    for idx in total_idx:\n",
        "        counter = 0\n",
        "        if element_idx == idx:\n",
        "            counter = idx\n",
        "            for _ in range(4):\n",
        "                copiadf[\"Estados\"][counter] = (copiadf[\"Estados\"][idx])\n",
        "                counter += 1\n",
        "copiadf.head()"
      ],
      "execution_count": null,
      "outputs": [
        {
          "output_type": "stream",
          "text": [
            "<ipython-input-33-6752e9a19612>:7: SettingWithCopyWarning: \n",
            "A value is trying to be set on a copy of a slice from a DataFrame\n",
            "\n",
            "See the caveats in the documentation: https://pandas.pydata.org/pandas-docs/stable/user_guide/indexing.html#returning-a-view-versus-a-copy\n",
            "  copiadf[\"Estados\"][counter] = (copiadf[\"Estados\"][idx])\n"
          ],
          "name": "stderr"
        },
        {
          "output_type": "execute_result",
          "data": {
            "text/html": [
              "<div>\n",
              "<style scoped>\n",
              "    .dataframe tbody tr th:only-of-type {\n",
              "        vertical-align: middle;\n",
              "    }\n",
              "\n",
              "    .dataframe tbody tr th {\n",
              "        vertical-align: top;\n",
              "    }\n",
              "\n",
              "    .dataframe thead th {\n",
              "        text-align: right;\n",
              "    }\n",
              "</style>\n",
              "<table border=\"1\" class=\"dataframe\">\n",
              "  <thead>\n",
              "    <tr style=\"text-align: right;\">\n",
              "      <th></th>\n",
              "      <th>Estados</th>\n",
              "      <th>Condición de alfabetismo</th>\n",
              "      <th>2000</th>\n",
              "      <th>2005</th>\n",
              "      <th>2010</th>\n",
              "      <th>2015</th>\n",
              "    </tr>\n",
              "  </thead>\n",
              "  <tbody>\n",
              "    <tr>\n",
              "      <th>0</th>\n",
              "      <td>Aguascalientes</td>\n",
              "      <td>Total</td>\n",
              "      <td>100.0</td>\n",
              "      <td>100.0</td>\n",
              "      <td>100.0</td>\n",
              "      <td>100.0</td>\n",
              "    </tr>\n",
              "    <tr>\n",
              "      <th>1</th>\n",
              "      <td>Aguascalientes</td>\n",
              "      <td>Alfabeta</td>\n",
              "      <td>95.1</td>\n",
              "      <td>95.6</td>\n",
              "      <td>96.2</td>\n",
              "      <td>97.0</td>\n",
              "    </tr>\n",
              "    <tr>\n",
              "      <th>2</th>\n",
              "      <td>Aguascalientes</td>\n",
              "      <td>Analfabeta</td>\n",
              "      <td>4.8</td>\n",
              "      <td>4.2</td>\n",
              "      <td>3.3</td>\n",
              "      <td>2.6</td>\n",
              "    </tr>\n",
              "    <tr>\n",
              "      <th>3</th>\n",
              "      <td>Aguascalientes</td>\n",
              "      <td>No especificado</td>\n",
              "      <td>0.1</td>\n",
              "      <td>0.2</td>\n",
              "      <td>0.5</td>\n",
              "      <td>0.4</td>\n",
              "    </tr>\n",
              "    <tr>\n",
              "      <th>4</th>\n",
              "      <td>Baja California</td>\n",
              "      <td>Total</td>\n",
              "      <td>100.0</td>\n",
              "      <td>100.0</td>\n",
              "      <td>100.0</td>\n",
              "      <td>100.0</td>\n",
              "    </tr>\n",
              "  </tbody>\n",
              "</table>\n",
              "</div>"
            ],
            "text/plain": [
              "           Estados Condición de alfabetismo   2000   2005   2010   2015\n",
              "0   Aguascalientes                    Total  100.0  100.0  100.0  100.0\n",
              "1   Aguascalientes                 Alfabeta   95.1   95.6   96.2   97.0\n",
              "2   Aguascalientes               Analfabeta    4.8    4.2    3.3    2.6\n",
              "3   Aguascalientes          No especificado    0.1    0.2    0.5    0.4\n",
              "4  Baja California                    Total  100.0  100.0  100.0  100.0"
            ]
          },
          "metadata": {
            "tags": []
          },
          "execution_count": 33
        }
      ]
    },
    {
      "cell_type": "markdown",
      "metadata": {
        "collapsed": false,
        "id": "7hZpnlennv4q"
      },
      "source": [
        "### Deleting the Total value of each state in the \"condición de alfabetismo\" column."
      ]
    },
    {
      "cell_type": "code",
      "metadata": {
        "id": "xQz4heT4nv4q",
        "outputId": "96186558-a7d1-4bb5-9273-6b0fe0e1b8dd"
      },
      "source": [
        "# Deleting the Total value of each state in the \"condición de alfabetismo\" column.\n",
        "copiadf = copiadf.drop(df.loc[copiadf[\"Condición de alfabetismo\"]==\"Total\"].index)\n",
        "copiadf.head(12)"
      ],
      "execution_count": null,
      "outputs": [
        {
          "output_type": "execute_result",
          "data": {
            "text/html": [
              "<div>\n",
              "<style scoped>\n",
              "    .dataframe tbody tr th:only-of-type {\n",
              "        vertical-align: middle;\n",
              "    }\n",
              "\n",
              "    .dataframe tbody tr th {\n",
              "        vertical-align: top;\n",
              "    }\n",
              "\n",
              "    .dataframe thead th {\n",
              "        text-align: right;\n",
              "    }\n",
              "</style>\n",
              "<table border=\"1\" class=\"dataframe\">\n",
              "  <thead>\n",
              "    <tr style=\"text-align: right;\">\n",
              "      <th></th>\n",
              "      <th>Estados</th>\n",
              "      <th>Condición de alfabetismo</th>\n",
              "      <th>2000</th>\n",
              "      <th>2005</th>\n",
              "      <th>2010</th>\n",
              "      <th>2015</th>\n",
              "    </tr>\n",
              "  </thead>\n",
              "  <tbody>\n",
              "    <tr>\n",
              "      <th>1</th>\n",
              "      <td>Aguascalientes</td>\n",
              "      <td>Alfabeta</td>\n",
              "      <td>95.1</td>\n",
              "      <td>95.6</td>\n",
              "      <td>96.2</td>\n",
              "      <td>97.0</td>\n",
              "    </tr>\n",
              "    <tr>\n",
              "      <th>2</th>\n",
              "      <td>Aguascalientes</td>\n",
              "      <td>Analfabeta</td>\n",
              "      <td>4.8</td>\n",
              "      <td>4.2</td>\n",
              "      <td>3.3</td>\n",
              "      <td>2.6</td>\n",
              "    </tr>\n",
              "    <tr>\n",
              "      <th>3</th>\n",
              "      <td>Aguascalientes</td>\n",
              "      <td>No especificado</td>\n",
              "      <td>0.1</td>\n",
              "      <td>0.2</td>\n",
              "      <td>0.5</td>\n",
              "      <td>0.4</td>\n",
              "    </tr>\n",
              "    <tr>\n",
              "      <th>5</th>\n",
              "      <td>Baja California</td>\n",
              "      <td>Alfabeta</td>\n",
              "      <td>96.3</td>\n",
              "      <td>96.4</td>\n",
              "      <td>96.3</td>\n",
              "      <td>97.6</td>\n",
              "    </tr>\n",
              "    <tr>\n",
              "      <th>6</th>\n",
              "      <td>Baja California</td>\n",
              "      <td>Analfabeta</td>\n",
              "      <td>3.5</td>\n",
              "      <td>3.1</td>\n",
              "      <td>2.6</td>\n",
              "      <td>2.0</td>\n",
              "    </tr>\n",
              "    <tr>\n",
              "      <th>7</th>\n",
              "      <td>Baja California</td>\n",
              "      <td>No especificado</td>\n",
              "      <td>0.2</td>\n",
              "      <td>0.5</td>\n",
              "      <td>1.1</td>\n",
              "      <td>0.5</td>\n",
              "    </tr>\n",
              "    <tr>\n",
              "      <th>9</th>\n",
              "      <td>Baja California Sur</td>\n",
              "      <td>Alfabeta</td>\n",
              "      <td>95.7</td>\n",
              "      <td>95.8</td>\n",
              "      <td>96.1</td>\n",
              "      <td>96.8</td>\n",
              "    </tr>\n",
              "    <tr>\n",
              "      <th>10</th>\n",
              "      <td>Baja California Sur</td>\n",
              "      <td>Analfabeta</td>\n",
              "      <td>4.2</td>\n",
              "      <td>3.6</td>\n",
              "      <td>3.2</td>\n",
              "      <td>2.5</td>\n",
              "    </tr>\n",
              "    <tr>\n",
              "      <th>11</th>\n",
              "      <td>Baja California Sur</td>\n",
              "      <td>No especificado</td>\n",
              "      <td>0.1</td>\n",
              "      <td>0.6</td>\n",
              "      <td>0.7</td>\n",
              "      <td>0.7</td>\n",
              "    </tr>\n",
              "    <tr>\n",
              "      <th>13</th>\n",
              "      <td>Campeche</td>\n",
              "      <td>Alfabeta</td>\n",
              "      <td>88.1</td>\n",
              "      <td>89.5</td>\n",
              "      <td>90.9</td>\n",
              "      <td>92.9</td>\n",
              "    </tr>\n",
              "    <tr>\n",
              "      <th>14</th>\n",
              "      <td>Campeche</td>\n",
              "      <td>Analfabeta</td>\n",
              "      <td>11.8</td>\n",
              "      <td>10.2</td>\n",
              "      <td>8.3</td>\n",
              "      <td>6.6</td>\n",
              "    </tr>\n",
              "    <tr>\n",
              "      <th>15</th>\n",
              "      <td>Campeche</td>\n",
              "      <td>No especificado</td>\n",
              "      <td>0.1</td>\n",
              "      <td>0.3</td>\n",
              "      <td>0.8</td>\n",
              "      <td>0.5</td>\n",
              "    </tr>\n",
              "  </tbody>\n",
              "</table>\n",
              "</div>"
            ],
            "text/plain": [
              "                Estados Condición de alfabetismo  2000  2005  2010  2015\n",
              "1        Aguascalientes                 Alfabeta  95.1  95.6  96.2  97.0\n",
              "2        Aguascalientes               Analfabeta   4.8   4.2   3.3   2.6\n",
              "3        Aguascalientes          No especificado   0.1   0.2   0.5   0.4\n",
              "5       Baja California                 Alfabeta  96.3  96.4  96.3  97.6\n",
              "6       Baja California               Analfabeta   3.5   3.1   2.6   2.0\n",
              "7       Baja California          No especificado   0.2   0.5   1.1   0.5\n",
              "9   Baja California Sur                 Alfabeta  95.7  95.8  96.1  96.8\n",
              "10  Baja California Sur               Analfabeta   4.2   3.6   3.2   2.5\n",
              "11  Baja California Sur          No especificado   0.1   0.6   0.7   0.7\n",
              "13             Campeche                 Alfabeta  88.1  89.5  90.9  92.9\n",
              "14             Campeche               Analfabeta  11.8  10.2   8.3   6.6\n",
              "15             Campeche          No especificado   0.1   0.3   0.8   0.5"
            ]
          },
          "metadata": {
            "tags": []
          },
          "execution_count": 34
        }
      ]
    },
    {
      "cell_type": "markdown",
      "metadata": {
        "collapsed": false,
        "id": "49o2bQKvnv4r"
      },
      "source": [
        "## Decision Tree"
      ]
    },
    {
      "cell_type": "markdown",
      "metadata": {
        "collapsed": false,
        "id": "ffU6AFhJnv4r"
      },
      "source": [
        "we used Supervised machine learning a Decision Tree Algorithm.\n",
        "We will teach to the machine the ability to determine if the given data corresponds either \"Alfabeta\", \"Analfabeta\", or \"No especificado\".\n",
        "This corresponds to the classification of the Condition literacy. "
      ]
    },
    {
      "cell_type": "code",
      "metadata": {
        "id": "S5IIImeHnv4r"
      },
      "source": [
        "# Library.\n",
        "from sklearn import tree"
      ],
      "execution_count": null,
      "outputs": []
    },
    {
      "cell_type": "markdown",
      "metadata": {
        "collapsed": false,
        "id": "Mxj-Jjobnv4r"
      },
      "source": [
        "### First we create a dictionary with the meaning of each label."
      ]
    },
    {
      "cell_type": "code",
      "metadata": {
        "id": "EqCXIC0Jnv4r",
        "outputId": "56d93cbc-e8e3-4c8c-a8f5-593bb501ec65"
      },
      "source": [
        "# First we create a dictionary with the meaning of each label.\n",
        "condition = [\"Alfabeta\", \"Analfabeta\", \"No especificado\"]\n",
        "key = [1,2,3]\n",
        "dictionary = dict(zip(key, condition))\n",
        "print(\"Diccionray:\\n\",dictionary)"
      ],
      "execution_count": null,
      "outputs": [
        {
          "output_type": "stream",
          "text": [
            "Diccionray:\n",
            " {1: 'Alfabeta', 2: 'Analfabeta', 3: 'No especificado'}\n"
          ],
          "name": "stdout"
        }
      ]
    },
    {
      "cell_type": "markdown",
      "metadata": {
        "collapsed": false,
        "id": "oiYSOE_2nv4r"
      },
      "source": [
        "### We have to select the state of interest."
      ]
    },
    {
      "cell_type": "code",
      "metadata": {
        "id": "k-drPeccnv4r",
        "outputId": "5bce7d77-fea7-4536-df52-7fdb40f2fc14"
      },
      "source": [
        "features = copiadf[copiadf[\"Estados\"] == \"Yucatán\"]\n",
        "features"
      ],
      "execution_count": null,
      "outputs": [
        {
          "output_type": "execute_result",
          "data": {
            "text/html": [
              "<div>\n",
              "<style scoped>\n",
              "    .dataframe tbody tr th:only-of-type {\n",
              "        vertical-align: middle;\n",
              "    }\n",
              "\n",
              "    .dataframe tbody tr th {\n",
              "        vertical-align: top;\n",
              "    }\n",
              "\n",
              "    .dataframe thead th {\n",
              "        text-align: right;\n",
              "    }\n",
              "</style>\n",
              "<table border=\"1\" class=\"dataframe\">\n",
              "  <thead>\n",
              "    <tr style=\"text-align: right;\">\n",
              "      <th></th>\n",
              "      <th>Estados</th>\n",
              "      <th>Condición de alfabetismo</th>\n",
              "      <th>2000</th>\n",
              "      <th>2005</th>\n",
              "      <th>2010</th>\n",
              "      <th>2015</th>\n",
              "    </tr>\n",
              "  </thead>\n",
              "  <tbody>\n",
              "    <tr>\n",
              "      <th>121</th>\n",
              "      <td>Yucatán</td>\n",
              "      <td>Alfabeta</td>\n",
              "      <td>87.6</td>\n",
              "      <td>88.9</td>\n",
              "      <td>90.0</td>\n",
              "      <td>91.9</td>\n",
              "    </tr>\n",
              "    <tr>\n",
              "      <th>122</th>\n",
              "      <td>Yucatán</td>\n",
              "      <td>Analfabeta</td>\n",
              "      <td>12.3</td>\n",
              "      <td>10.9</td>\n",
              "      <td>9.2</td>\n",
              "      <td>7.4</td>\n",
              "    </tr>\n",
              "    <tr>\n",
              "      <th>123</th>\n",
              "      <td>Yucatán</td>\n",
              "      <td>No especificado</td>\n",
              "      <td>0.1</td>\n",
              "      <td>0.2</td>\n",
              "      <td>0.8</td>\n",
              "      <td>0.7</td>\n",
              "    </tr>\n",
              "  </tbody>\n",
              "</table>\n",
              "</div>"
            ],
            "text/plain": [
              "     Estados Condición de alfabetismo  2000  2005  2010  2015\n",
              "121  Yucatán                 Alfabeta  87.6  88.9  90.0  91.9\n",
              "122  Yucatán               Analfabeta  12.3  10.9   9.2   7.4\n",
              "123  Yucatán          No especificado   0.1   0.2   0.8   0.7"
            ]
          },
          "metadata": {
            "tags": []
          },
          "execution_count": 37
        }
      ]
    },
    {
      "cell_type": "markdown",
      "metadata": {
        "collapsed": false,
        "id": "Late4VMqnv4s"
      },
      "source": [
        "### Creating the features and labels"
      ]
    },
    {
      "cell_type": "code",
      "metadata": {
        "id": "XfUde9I_nv4s",
        "outputId": "ed31e7f5-c74e-4c8b-cf37-7f8310d148f6"
      },
      "source": [
        "features = features[[\"2000\", \"2005\", \"2010\", \"2015\"]].values\n",
        "labels = [1,2,3]\n",
        "print(\"Features:\\n\", features)\n",
        "print(\"Labels:\\n\", labels)"
      ],
      "execution_count": null,
      "outputs": [
        {
          "output_type": "stream",
          "text": [
            "Features:\n",
            " [[87.6 88.9 90.  91.9]\n",
            " [12.3 10.9  9.2  7.4]\n",
            " [ 0.1  0.2  0.8  0.7]]\n",
            "Labels:\n",
            " [1, 2, 3]\n"
          ],
          "name": "stdout"
        }
      ]
    },
    {
      "cell_type": "markdown",
      "metadata": {
        "collapsed": false,
        "id": "m_nFgN-Onv4s"
      },
      "source": [
        "### Using the Decision Tree Classifier Function"
      ]
    },
    {
      "cell_type": "code",
      "metadata": {
        "id": "3odumAchnv4s",
        "outputId": "31e3fc56-cbbf-48df-84b8-4f8a8054f115"
      },
      "source": [
        "# Decision Tree Classifier Function from sklearn.\n",
        "classifier = tree.DecisionTreeClassifier()\n",
        "classifier"
      ],
      "execution_count": null,
      "outputs": [
        {
          "output_type": "execute_result",
          "data": {
            "text/plain": [
              "DecisionTreeClassifier()"
            ]
          },
          "metadata": {
            "tags": []
          },
          "execution_count": 39
        }
      ]
    },
    {
      "cell_type": "markdown",
      "metadata": {
        "collapsed": false,
        "id": "V-bURESBnv4s"
      },
      "source": [
        "###  Training the data."
      ]
    },
    {
      "cell_type": "code",
      "metadata": {
        "id": "vf_o3f3Gnv4s",
        "outputId": "c90b77c1-f973-4c9b-ef51-9510c354d853"
      },
      "source": [
        "# Training the data.\n",
        "classifier.fit(features, labels)"
      ],
      "execution_count": null,
      "outputs": [
        {
          "output_type": "execute_result",
          "data": {
            "text/plain": [
              "DecisionTreeClassifier()"
            ]
          },
          "metadata": {
            "tags": []
          },
          "execution_count": 40
        }
      ]
    },
    {
      "cell_type": "markdown",
      "metadata": {
        "collapsed": false,
        "id": "pxHQv-DOnv4s"
      },
      "source": [
        "## Testing the Tree Classifier"
      ]
    },
    {
      "cell_type": "code",
      "metadata": {
        "id": "OGk9_--unv4s",
        "outputId": "5c6c394c-3110-44b8-93eb-98e24a2dc136"
      },
      "source": [
        "# List of elements that will use for the prediction test.\n",
        "test = [0.1,0.2,0.8,0.7]\n",
        "prediction = classifier.predict([test])\n",
        "print(\"Prediction:\\n\", prediction)"
      ],
      "execution_count": null,
      "outputs": [
        {
          "output_type": "stream",
          "text": [
            "Prediction:\n",
            " [3]\n"
          ],
          "name": "stdout"
        }
      ]
    },
    {
      "cell_type": "markdown",
      "metadata": {
        "collapsed": false,
        "id": "4ttI7HEPnv4s"
      },
      "source": [
        "### Accessing to the dictionary to get the value."
      ]
    },
    {
      "cell_type": "code",
      "metadata": {
        "id": "SVEm62R1nv4s",
        "outputId": "66044e54-1a6b-495d-9ca1-96636a92d9d2"
      },
      "source": [
        "# Using the dictionary to verify the condition literacy.\n",
        "result = dictionary[(prediction[0])]\n",
        "print(\"The condition of literacyis:\\n\")\n",
        "print(Fore.WHITE+ Back.BLACK+result)"
      ],
      "execution_count": null,
      "outputs": [
        {
          "output_type": "stream",
          "text": [
            "The condition of literacyis:\n",
            "\n",
            "\u001b[37m\u001b[40mNo especificado\n"
          ],
          "name": "stdout"
        }
      ]
    },
    {
      "cell_type": "markdown",
      "metadata": {
        "collapsed": false,
        "id": "YK7UJNBznv4s"
      },
      "source": [
        "we can put all of this inside a for loop but at the end, the finality of the activity is learning how to apply an classification algorithm and we already have done with the implementation of the Decision Tree Algorithm to determine the condition literacy in the state of Yucatán."
      ]
    },
    {
      "cell_type": "markdown",
      "metadata": {
        "collapsed": false,
        "id": "yzdpBoObnv4s"
      },
      "source": [
        "Maybe you are wondering, this can be solved with an if and else, yes but when you are a human being and you have the conditions that can occur.\n",
        "This algorithm will be execute for the machine and the objetive is that the machine be who take the final decision, an another important factor is that at the end, in real world cases you have lots of data and can be nearly impossible do it with and if and else. This is when machine learning arrives to solve this problem."
      ]
    }
  ]
}