{
 "cells": [
  {
   "cell_type": "markdown",
   "metadata": {},
   "source": [
    "# Unit 2\n",
    "# Assigment 05: NonDeterministicAutomaton\n",
    "\n",
    "## For this assignment perform the following:\n",
    "### Implement a class NonDeterminsiticAutomaton which receives: (q, Σ, δ, q0, F ) and instantiate the properties in the NonDeterminsiticAutomaton object\n",
    "### Automaton class should have the following properties:\n",
    "- q: list of strings representing automaton states\n",
    "- sigma: list of symbols containing alphabet\n",
    "- delta: Dictionary of pairs (q,symbol) which are tuple of 2 strings, and a list of values - q which represent the automaton possible states\n",
    "- q0: String representing the initial state \n",
    "- empty symbol: String representing the empty transition in the automaton\n",
    "- f: list of final states"
   ]
  },
  {
   "cell_type": "code",
   "execution_count": 1,
   "metadata": {},
   "outputs": [],
   "source": [
    "# Libraries\n",
    "import pprint\n",
    "import random"
   ]
  },
  {
   "cell_type": "code",
   "execution_count": 2,
   "metadata": {},
   "outputs": [],
   "source": [
    "class NoDeterministicAutomaton:\n",
    "    def __int__(self, q, sigma, delta, q0, f, empty_symbol, temporal, next_state):\n",
    "        \"\"\"\n",
    "        q: list of strings representing automaton states\n",
    "        sigma: list of symbols containing alphabet\n",
    "        delta: Dictionary of pairs (q,symbol) which are tuple of 2 strings, and a list of values q which represent the automaton possible states\n",
    "        q0: String representing the initial state\n",
    "        empty symbol: String representing the empty transition in the automaton\n",
    "        f: list of final states\n",
    "        temporal: temporal variable\n",
    "        \n",
    "        \"\"\"\n",
    "        self.q = q\n",
    "        self.sigma = sigma\n",
    "        self.delta = delta\n",
    "        self.q0 = q0\n",
    "        self.f = f\n",
    "        self.empty_symbol = empty_symbol\n",
    "        self.temporal = temporal\n",
    "        self.next_state = next_state\n",
    "        \n",
    "    def load_from_file(self, file):\n",
    "        \"\"\"\n",
    "        This method receives the file with the automaton\n",
    "        defninition and loads the properties\n",
    "        \"\"\"\n",
    "        opened_file = open(file)\n",
    "        read_file = opened_file.read()\n",
    "        new_line_split = read_file.split(\"\\n\")\n",
    "        opened_file.close()\n",
    "        self.q = new_line_split[0].strip(\"{}\").split(\",\")\n",
    "        self.sigma = new_line_split[1].strip(\"{}\").split(\",\")\n",
    "        self.q0 = new_line_split[3].strip(\"{}\").split(\",\")\n",
    "        self.f = new_line_split[4].strip(\"{}\").split(\",\")\n",
    "        self.temporal = new_line_split[2].strip(\"{}\").split(\",\")\n",
    "        self.delta = {}\n",
    "        for i in range(len(self.temporal)):\n",
    "            split = self.temporal[i].split(\"-\")\n",
    "            split_key = (split[0], split[1])\n",
    "            split_value = split[2]\n",
    "            if split_key not in self.delta:\n",
    "                self.delta[split_key] = split_value\n",
    "            else:\n",
    "                self.delta[split_key] = list((self.delta[split_key],split_value))\n",
    "                \n",
    "    def process_symbol(self, state, symbol):\n",
    "        \"\"\"\n",
    "        This method receives a string representing the state and the symbol to \n",
    "        process and returns the set of possible next states\n",
    "        \"\"\"\n",
    "        input_value = (state, symbol)\n",
    "        if input_value in self.delta:\n",
    "            print(self.delta[input_value])\n",
    "        else:\n",
    "            print(\"The combination of state and the symbol that you enter is not in the next stage\")\n",
    "        \n",
    "    def empty_transitions(self, state):\n",
    "        \"\"\"\n",
    "        This method receives a string representing the state and returns the set of possible \n",
    "        states reachable using empty transitions from that state\n",
    "        \"\"\"\n",
    "        for j, k in self.delta.items():\n",
    "            if state == j[0] and j[1] == \"lambda\":\n",
    "                print(j,\"possible state --->\", k)\n",
    "                \n",
    "    def process_word(self, word):\n",
    "        \"\"\"This method receives a string and return a boolean indicating if the string is accepted \n",
    "            or not. It also should print the transitions chosen to reach a final state \n",
    "            in case that the word is accepted\"\"\"\n",
    "        q_init = \"\".join(self.q0)\n",
    "        lista_chida = []\n",
    "        temporal_2 = \"\"\n",
    "        # This part separates the word and puts them in a list.\n",
    "        for letter in word:\n",
    "            if letter.isalpha():\n",
    "                if len(temporal_2) == 6: # the string is lambda and its length is 6\n",
    "                    lista_chida.append(temporal_2) # each 6 letters, the string will be add to the list.\n",
    "                    temporal_2 = \"\" # cleaning the variable to add another 6 letters.\n",
    "                temporal_2 += letter\n",
    "            if letter.isnumeric():\n",
    "                lista_chida.append(letter)\n",
    "        # lista_chida: input: \"01lambda0lambda1\" output: ['0','1','lambda','0','lambda','1']\n",
    "        # This part is the process word \n",
    "        for element in lista_chida:\n",
    "            try:\n",
    "                temporal_element = self.delta[(q_init, element)] #[\"q1\", \"0\"]\n",
    "            except KeyError:\n",
    "                print(q_init) # Initial state\n",
    "                print(\"There is not way to go to the next state with that word\")\n",
    "                return False\n",
    "            if type(temporal_element) == type([]): #if there exist more than 1 possible next state.\n",
    "                self.next_state = random.choice(temporal_element) \n",
    "                print(self.next_state)\n",
    "                q_init = self.next_state\n",
    "                if self.next_state in self.f:         \n",
    "                    return True\n",
    "                else:\n",
    "                    return False\n",
    "            else:\n",
    "                self.next_state = temporal_element\n",
    "                print(self.next_state)\n",
    "                q_init = self.next_state\n",
    "                if self.next_state in self.f:         \n",
    "                    return True\n",
    "                else:\n",
    "                    return False\n",
    "\n",
    "    def __str__(self):\n",
    "        \"\"\"str : prints current automaton configuration (including current state)\"\"\"\n",
    "        return \"\"\"\n",
    "        q {self.q} \n",
    "        sigma {self.sigma} \n",
    "        delta {self.delta} \n",
    "        q0 {self.q0} \n",
    "        f {self.f} \n",
    "        Current state {self.next_state}\"\"\".format(self=self)\n",
    "    def is_valid(self, q, sigma, delta, q0, f):\n",
    "        \"\"\" This method receives the automaton elements and returns a boolean indicating if it is a valid automaton definition\"\"\"\n",
    "        q_list = list(q)\n",
    "        if (list(f)[0]) not in q_list or q0 not in q_list: #if f not in q or q0 not in q.\n",
    "            return  (False, \"Invalid Automaton Definition\")\n",
    "        for j, k in delta.items():\n",
    "            if j[0] not in q_list:\n",
    "                return (False, \"Invalid Automaton Defintion\")\n",
    "        return (True, \"valid Automaton Definition\")"
   ]
  },
  {
   "cell_type": "markdown",
   "metadata": {},
   "source": [
    "### Initialize the class"
   ]
  },
  {
   "cell_type": "code",
   "execution_count": 3,
   "metadata": {},
   "outputs": [],
   "source": [
    "# Initialize the class\n",
    "automaton = NoDeterministicAutomaton()"
   ]
  },
  {
   "cell_type": "markdown",
   "metadata": {},
   "source": [
    "### load_from_file method"
   ]
  },
  {
   "cell_type": "code",
   "execution_count": 4,
   "metadata": {},
   "outputs": [],
   "source": [
    "# load_from_file method\n",
    "automaton.load_from_file(\"automata.txt\")"
   ]
  },
  {
   "cell_type": "markdown",
   "metadata": {},
   "source": [
    "### load_from_file method"
   ]
  },
  {
   "cell_type": "code",
   "execution_count": 5,
   "metadata": {},
   "outputs": [
    {
     "name": "stdout",
     "output_type": "stream",
     "text": [
      "('q0', 'lambda') possible state ---> q2\n"
     ]
    }
   ],
   "source": [
    "# empty_transitions method\n",
    "automaton.empty_transitions(\"q0\")"
   ]
  },
  {
   "cell_type": "markdown",
   "metadata": {},
   "source": [
    "### process_word method"
   ]
  },
  {
   "cell_type": "code",
   "execution_count": 6,
   "metadata": {},
   "outputs": [
    {
     "name": "stdout",
     "output_type": "stream",
     "text": [
      "q2\n"
     ]
    },
    {
     "data": {
      "text/plain": [
       "True"
      ]
     },
     "execution_count": 6,
     "metadata": {},
     "output_type": "execute_result"
    }
   ],
   "source": [
    "# process_word method\n",
    "automaton.process_word(\"lambdalambda1001\")"
   ]
  },
  {
   "cell_type": "code",
   "execution_count": 7,
   "metadata": {},
   "outputs": [
    {
     "name": "stdout",
     "output_type": "stream",
     "text": [
      "q0\n",
      "There is not way to go to the next state with that word\n"
     ]
    },
    {
     "data": {
      "text/plain": [
       "False"
      ]
     },
     "execution_count": 7,
     "metadata": {},
     "output_type": "execute_result"
    }
   ],
   "source": [
    "# process_word method\n",
    "automaton.process_word(\"1lambdalambda\")"
   ]
  },
  {
   "cell_type": "code",
   "execution_count": 8,
   "metadata": {},
   "outputs": [
    {
     "name": "stdout",
     "output_type": "stream",
     "text": [
      "q0\n",
      "There is not way to go to the next state with that word\n"
     ]
    },
    {
     "data": {
      "text/plain": [
       "False"
      ]
     },
     "execution_count": 8,
     "metadata": {},
     "output_type": "execute_result"
    }
   ],
   "source": [
    "# process_word method\n",
    "automaton.process_word(\"100101\")"
   ]
  },
  {
   "cell_type": "markdown",
   "metadata": {},
   "source": [
    "### __str___ method"
   ]
  },
  {
   "cell_type": "code",
   "execution_count": 9,
   "metadata": {},
   "outputs": [
    {
     "name": "stdout",
     "output_type": "stream",
     "text": [
      "('\\n'\n",
      " \"        q ['q0', ' q1', ' q2', ' q3'] \\n\"\n",
      " \"        sigma ['0', '1'] \\n\"\n",
      " \"        delta {('q0', '0'): ['q3', 'q1'], ('q1', '0'): 'q2', ('q1', '1'): \"\n",
      " \"'q1', ('q2', '0'): 'q2', ('q2', '1'): 'q1', ('q3', '0'): 'q3', ('q0', \"\n",
      " \"'lambda'): 'q2', ('q2', 'lambda'): 'q1'} \\n\"\n",
      " \"        q0 ['q0'] \\n\"\n",
      " \"        f ['q2'] \\n\"\n",
      " '        Current state q2')\n"
     ]
    }
   ],
   "source": [
    "# __str___ method\n",
    "pprint.pprint(automaton.__str__())"
   ]
  },
  {
   "cell_type": "markdown",
   "metadata": {},
   "source": [
    "### process_symbol method"
   ]
  },
  {
   "cell_type": "code",
   "execution_count": 10,
   "metadata": {},
   "outputs": [
    {
     "name": "stdout",
     "output_type": "stream",
     "text": [
      "['q3', 'q1']\n"
     ]
    }
   ],
   "source": [
    "# process_symbol method\n",
    "automaton.process_symbol(\"q0\",\"0\")"
   ]
  },
  {
   "cell_type": "markdown",
   "metadata": {},
   "source": [
    "### is_valid method"
   ]
  },
  {
   "cell_type": "code",
   "execution_count": 11,
   "metadata": {},
   "outputs": [
    {
     "data": {
      "text/plain": [
       "(True, 'valid Automaton Definition')"
      ]
     },
     "execution_count": 11,
     "metadata": {},
     "output_type": "execute_result"
    }
   ],
   "source": [
    "# is_valid method\n",
    "# delta\n",
    "delta = {('q0', '0'): ['q3', 'q1'],\n",
    " ('q1', '0'): 'q2',\n",
    " ('q1', '1'): 'q1',\n",
    " ('q2', '0'): 'q2',\n",
    " ('q2', '1'): 'q1',\n",
    " ('q3', '0'): 'q3',\n",
    " ('q0', 'lambda'): 'q2',\n",
    " ('q2', 'lambda'): 'q1'}\n",
    "\n",
    "\n",
    "automaton.is_valid(q = {'q0','q1','q2','q3'}, sigma = {\"0\",\"1\"}, delta = delta, q0 = \"q0\", f = {\"q2\"})"
   ]
  },
  {
   "cell_type": "code",
   "execution_count": 12,
   "metadata": {},
   "outputs": [
    {
     "data": {
      "text/plain": [
       "(False, 'Invalid Automaton Defintion')"
      ]
     },
     "execution_count": 12,
     "metadata": {},
     "output_type": "execute_result"
    }
   ],
   "source": [
    "# is_valid method\n",
    "# delta\n",
    "delta = {('q0', '0'): ['q3', 'q1'],\n",
    " ('q1', '0'): 'q2',\n",
    " ('q1', '1'): 'q1',\n",
    " ('q2', '0'): 'q2',\n",
    " ('q2', '1'): 'q1',\n",
    " ('q3', '0'): 'q3',\n",
    " ('q0', 'lambda'): 'q2',\n",
    " ('q4', 'lambda'): 'q1'} # Adding \"q4\" instead of \"q2\" to generate and invalid definition\n",
    "\n",
    "\n",
    "automaton.is_valid(q = {'q0','q1','q2','q3'}, sigma = {\"0\",\"1\"}, delta = delta, q0 = \"q0\", f = {\"q2\"})"
   ]
  }
 ],
 "metadata": {
  "kernelspec": {
   "display_name": "Python 3",
   "language": "python",
   "name": "python3"
  },
  "language_info": {
   "codemirror_mode": {
    "name": "ipython",
    "version": 3
   },
   "file_extension": ".py",
   "mimetype": "text/x-python",
   "name": "python",
   "nbconvert_exporter": "python",
   "pygments_lexer": "ipython3",
   "version": "3.7.3"
  }
 },
 "nbformat": 4,
 "nbformat_minor": 4
}
